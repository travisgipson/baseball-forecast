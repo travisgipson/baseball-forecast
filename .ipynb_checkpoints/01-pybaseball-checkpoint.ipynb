{
 "cells": [
  {
   "cell_type": "markdown",
   "id": "4899799f-26e3-4b27-9844-e8022d443e37",
   "metadata": {},
   "source": [
    "## Import Libraries"
   ]
  },
  {
   "cell_type": "code",
   "execution_count": 2,
   "id": "5158bb3d-f144-471b-ac3b-06d18f214a48",
   "metadata": {},
   "outputs": [],
   "source": [
    "# utils\n",
    "import sys\n",
    "import os\n",
    "\n",
    "# dates\n",
    "import datetime as dt\n",
    "\n",
    "# data\n",
    "import numpy as np\n",
    "import pandas as pd\n",
    "\n",
    "# baseball\n",
    "import fcasttools as fcbb\n",
    "import pybaseball as pbb\n",
    "\n",
    "# viz\n",
    "import plotly.express as px\n",
    "\n",
    "# progress\n",
    "from tqdm.notebook import tqdm_notebook\n",
    "tqdm_notebook.pandas()\n",
    "\n",
    "# display\n",
    "pd.options.display.max_columns = 99\n",
    "pd.options.display.max_rows = 999\n",
    "from IPython.core.interactiveshell import InteractiveShell\n",
    "InteractiveShell.ast_node_interactivity = \"all\"\n",
    "\n",
    "# make tab complete faster\n",
    "%config Completer.use_jedi = False"
   ]
  },
  {
   "cell_type": "markdown",
   "id": "e4878c8f-8323-4823-ac44-7f5f38f05e33",
   "metadata": {
    "jp-MarkdownHeadingCollapsed": true,
    "tags": []
   },
   "source": [
    "## Download Lahman Baseball Data"
   ]
  },
  {
   "cell_type": "code",
   "execution_count": null,
   "id": "0f6f548b-3947-445a-82ed-aee647e0b32c",
   "metadata": {},
   "outputs": [],
   "source": [
    "# get core team season data\n",
    "pbb.teams_core().to_parquet(\"./data/tm_core_season.pq\")\n",
    "\n",
    "# get player stats data\n",
    "pbb.pybaseball.lahman.batting().to_parquet(\"./data/pl_batting.pq\")\n",
    "pbb.pybaseball.lahman.fielding().to_parquet(\"./data/pl_fielding.pq\")\n",
    "pbb.pybaseball.lahman.pitching().to_parquet(\"./data/pl_pitching.pq\")\n",
    "\n",
    "# get people data\n",
    "pbb.lahman.people().to_parquet(\"./data/pl_people.pq\")"
   ]
  },
  {
   "cell_type": "markdown",
   "id": "f93acd5f-2e10-4558-aa6e-881cd374f78c",
   "metadata": {},
   "source": [
    "## Import Lahman Data"
   ]
  },
  {
   "cell_type": "code",
   "execution_count": 3,
   "id": "c06e444b-caad-491f-a08e-2c97edca4fe7",
   "metadata": {},
   "outputs": [],
   "source": [
    "# import lahman dfs\n",
    "lhb = pd.read_parquet(\"./data/pl_batting.pq\")\n",
    "lhf = pd.read_parquet(\"./data/pl_fielding.pq\")\n",
    "lhp = pd.read_parquet(\"./data/pl_pitching.pq\")\n",
    "lhpp = pd.read_parquet(\"./data/pl_people.pq\")\n",
    "lhtm = pd.read_parquet(\"./data/tm_core_season.pq\")"
   ]
  },
  {
   "cell_type": "markdown",
   "id": "673d7e9b-65b4-4b29-a627-f031c8265efa",
   "metadata": {
    "tags": []
   },
   "source": [
    "## Data & Model Prep"
   ]
  },
  {
   "cell_type": "code",
   "execution_count": 4,
   "id": "abee9904-9cd4-4ba3-aebe-4be2c78f1cdb",
   "metadata": {},
   "outputs": [],
   "source": [
    "from pybaseball.analysis.projections.marcels import MarcelProjectionsBatting\n",
    "from pybaseball.analysis.projections.marcels import MarcelProjectionsPitching\n",
    "from sklearn.linear_model import LinearRegression\n",
    "from sklearn.ensemble import RandomForestRegressor\n",
    "from xgboost import XGBRegressor\n",
    "import warnings\n",
    "warnings.filterwarnings(\"ignore\")"
   ]
  },
  {
   "cell_type": "code",
   "execution_count": 5,
   "id": "44a8f3d3-a4f0-4be5-9508-e623be2080cd",
   "metadata": {},
   "outputs": [],
   "source": [
    "# run batting etl class\n",
    "dfb = fcbb.BattingETL(df_batting=lhb,\n",
    "                      df_fielding=lhf,\n",
    "                      df_players=lhpp,\n",
    "                      dt_filter=1970,\n",
    "                      season_filter=None,\n",
    "                      pstn_filter=[\"P\"]).run_etl()"
   ]
  },
  {
   "cell_type": "code",
   "execution_count": 6,
   "id": "745f7428-a126-4775-a5a5-936e55e144ed",
   "metadata": {},
   "outputs": [],
   "source": [
    "# run pitching etl class\n",
    "dfp = fcbb.PitchingETL(df_pitching=lhp,\n",
    "                       df_players=lhpp,\n",
    "                       dt_filter=1970,\n",
    "                       pstn_filter=None,\n",
    "                       season_filter=[2020]).run_etl()"
   ]
  },
  {
   "cell_type": "code",
   "execution_count": 7,
   "id": "d3e31a49-dd13-4295-aa7c-c8abaaf426ce",
   "metadata": {},
   "outputs": [],
   "source": [
    "### batting models\n",
    "\n",
    "# instantiate marcel's class\n",
    "marcel_batting = MarcelProjectionsBatting(stats_df=dfb.df_primary)\n",
    "marcel_batting.model_name = \"mc\"\n",
    "\n",
    "# instantiate batting forecasting classes\n",
    "fcast_rfr_batting = fcbb.PlayerForecastAR(model_name=\"ar_rfr\",\n",
    "                                          data_class=dfb,\n",
    "                                          groupers=[\"primaryPos\",\"lgLast\",\"seasonNo\"],\n",
    "                                          ar_type=\"var\",\n",
    "                                          player_model=RandomForestRegressor(n_estimators=100),\n",
    "                                          group_model=\"mean\",\n",
    "                                          nlags=3,\n",
    "                                          lookback=5)\n",
    "\n",
    "fcast_ols_batting = fcbb.PlayerForecastAR(model_name=\"ar_ols\",\n",
    "                                          data_class=dfb,\n",
    "                                          groupers=[\"primaryPos\",\"lgLast\",\"seasonNo\"],\n",
    "                                          ar_type=\"ar\",\n",
    "                                          player_model=LinearRegression(fit_intercept=True),\n",
    "                                          group_model=\"mean\",\n",
    "                                          nlags=3,\n",
    "                                          lookback=5)"
   ]
  },
  {
   "cell_type": "code",
   "execution_count": 8,
   "id": "9d0aa0f7-441c-4f79-bee6-92e44207caa7",
   "metadata": {},
   "outputs": [],
   "source": [
    "### pitching models\n",
    "\n",
    "# instantiate marcel's class\n",
    "marcel_pitching = MarcelProjectionsPitching()\n",
    "marcel_pitching.model_name = \"mc\"\n",
    "\n",
    "# instantiate forecasting classes\n",
    "fcast_rfr_pitching = fcbb.PlayerForecastAR(model_name=\"ar_rfr\",\n",
    "                                           data_class=dfp,\n",
    "                                           groupers=[\"primaryPos\",\"lgLast\"],\n",
    "                                           ar_type=\"var\",\n",
    "                                           player_model=RandomForestRegressor(n_estimators=100),\n",
    "                                           group_model=\"mean\",\n",
    "                                           nlags=3,\n",
    "                                           lookback=5)\n",
    "\n",
    "fcast_ols_pitching = fcbb.PlayerForecastAR(model_name=\"ar_ols\",\n",
    "                                           data_class=dfp,\n",
    "                                           groupers=[\"primaryPos\",\"lgLast\"],\n",
    "                                           ar_type=\"ar\",\n",
    "                                           player_model=LinearRegression(fit_intercept=True),\n",
    "                                           group_model=\"mean\",\n",
    "                                           nlags=3,\n",
    "                                           lookback=5)"
   ]
  },
  {
   "cell_type": "markdown",
   "id": "6f905508-baf1-49e7-81c3-f502fbf098fb",
   "metadata": {},
   "source": [
    "## Run Models"
   ]
  },
  {
   "cell_type": "code",
   "execution_count": 53,
   "id": "d8104613-4d41-498b-bdf3-92f2bfbb84a0",
   "metadata": {},
   "outputs": [
    {
     "data": {
      "application/vnd.jupyter.widget-view+json": {
       "model_id": "bb65dcda4af140abac90c80931626c52",
       "version_major": 2,
       "version_minor": 0
      },
      "text/plain": [
       "  0%|          | 0/3 [00:00<?, ?it/s]"
      ]
     },
     "metadata": {},
     "output_type": "display_data"
    }
   ],
   "source": [
    "# aggregate multiple pitching forecasts\n",
    "stats = [\"R\"]\n",
    "seasons = [x for x in np.arange(1990,2023) if x != 2020]\n",
    "aggdf_pitching = fcbb.AggForecasts(models=[marcel_pitching,fcast_ols_pitching,fcast_rfr_pitching],\n",
    "                                   seasons=seasons,\n",
    "                                   stats=stats,\n",
    "                                   ensemble=True,\n",
    "                                   xvars=[\"ageAdj\"]).agg()"
   ]
  },
  {
   "cell_type": "code",
   "execution_count": 10,
   "id": "bc4c6706-cf12-4dc2-9c0c-6ad23bb3bb45",
   "metadata": {},
   "outputs": [
    {
     "data": {
      "application/vnd.jupyter.widget-view+json": {
       "model_id": "fe44791ab3f34ae49dd0fdce36cf3149",
       "version_major": 2,
       "version_minor": 0
      },
      "text/plain": [
       "  0%|          | 0/3 [00:00<?, ?it/s]"
      ]
     },
     "metadata": {},
     "output_type": "display_data"
    }
   ],
   "source": [
    "# aggregate multiple batting forecasts\n",
    "stats = [\"R\"]\n",
    "seasons = [x for x in np.arange(1990,2023) if x != 2020]\n",
    "aggdf_batting = fcbb.AggForecasts(models=[marcel_batting,fcast_ols_batting,fcast_rfr_batting],\n",
    "                                  seasons=seasons,\n",
    "                                  stats=stats,\n",
    "                                  ensemble=True,\n",
    "                                  xvars=[\"ageAdj\"]).agg()"
   ]
  },
  {
   "cell_type": "markdown",
   "id": "d33138d1-ce98-41c3-8e73-e9a924d3fd04",
   "metadata": {
    "jp-MarkdownHeadingCollapsed": true,
    "tags": []
   },
   "source": [
    "## Pitcher Model Performance"
   ]
  },
  {
   "cell_type": "code",
   "execution_count": null,
   "id": "d47c7e8d-130a-4ab9-9a55-f50ffeb36fd8",
   "metadata": {},
   "outputs": [],
   "source": [
    "# get player data\n",
    "player_data = dfp.df_primary[dfp.cols_player + stats].set_index([\"playerID\",\"yearID\"]).copy()\n",
    "\n",
    "# merge\n",
    "player_data = player_data.join(aggdf_pitching.df_agg).reset_index()\n",
    "\n",
    "# filter nans\n",
    "player_data2 = player_data.copy().dropna()\n",
    "player_data.shape\n",
    "player_data2.shape\n",
    "\n",
    "# compute forecast errors\n",
    "for stat in stats:\n",
    "    player_data2[f\"{stat}_err_ar_ols\"] = player_data2[stat] - player_data2[f\"{stat}ar_ols\"]\n",
    "    player_data2[f\"{stat}_err_ar_rfr\"] = player_data2[stat] - player_data2[f\"{stat}ar_rfr\"]\n",
    "    player_data2[f\"{stat}_err_mc\"] = player_data2[stat] - player_data2[f\"{stat}mc\"]\n",
    "    player_data2[f\"{stat}_err_comb\"] = player_data2[stat] - player_data2[f\"{stat}comb\"]\n",
    "\n",
    "# note nans\n",
    "# player_data.isna().sum()"
   ]
  },
  {
   "cell_type": "code",
   "execution_count": null,
   "id": "573c9520-1729-4fa7-9d05-0d652bf0b677",
   "metadata": {},
   "outputs": [],
   "source": [
    "# RMSE by stat & model\n",
    "rmse = lambda x: (sum(x ** 2) / len(x))**.5\n",
    "err_cols = [c for c in player_data2 if \"err\" in c]\n",
    "player_data2[err_cols].agg(rmse).round(2)"
   ]
  },
  {
   "cell_type": "code",
   "execution_count": null,
   "id": "a38f1253-fe9c-4f7b-8146-e746829393e5",
   "metadata": {},
   "outputs": [],
   "source": [
    "# get RMSE by year\n",
    "player_data2.groupby([\"yearID\"])[err_cols].agg(rmse).round(2).tail()"
   ]
  },
  {
   "cell_type": "markdown",
   "id": "26b16f16-1481-4bcb-a970-ac5dfe3a9623",
   "metadata": {
    "jp-MarkdownHeadingCollapsed": true,
    "tags": []
   },
   "source": [
    "## Batter Model Performance"
   ]
  },
  {
   "cell_type": "code",
   "execution_count": null,
   "id": "7da7913d-bd8b-4045-938c-58eeb525fd88",
   "metadata": {},
   "outputs": [],
   "source": [
    "# get player data\n",
    "player_data = dfb.df_primary[dfb.cols_player + stats].set_index([\"playerID\",\"yearID\"]).copy()\n",
    "\n",
    "# merge\n",
    "player_data = player_data.join(aggdf_batting.df_agg).reset_index()\n",
    "\n",
    "# filter nans\n",
    "player_data2 = player_data.copy().dropna()\n",
    "player_data.shape\n",
    "player_data2.shape\n",
    "\n",
    "# compute forecast errors\n",
    "for stat in stats:\n",
    "    player_data2[f\"{stat}_err_ar_ols\"] = player_data2[stat] - player_data2[f\"{stat}ar_ols\"]\n",
    "    player_data2[f\"{stat}_err_ar_rfr\"] = player_data2[stat] - player_data2[f\"{stat}ar_rfr\"]\n",
    "    player_data2[f\"{stat}_err_mc\"] = player_data2[stat] - player_data2[f\"{stat}mc\"]\n",
    "    player_data2[f\"{stat}_err_comb\"] = player_data2[stat] - player_data2[f\"{stat}comb\"]\n",
    "\n",
    "# note nans\n",
    "# player_data.isna().sum()"
   ]
  },
  {
   "cell_type": "code",
   "execution_count": null,
   "id": "d717d7a9-7351-4e44-b57c-192071822ffb",
   "metadata": {},
   "outputs": [],
   "source": [
    "# RMSE by stat & model\n",
    "rmse = lambda x: (sum(x ** 2) / len(x))**.5\n",
    "err_cols = [c for c in player_data2 if \"err\" in c]\n",
    "player_data2[err_cols].agg(rmse).round(2)"
   ]
  },
  {
   "cell_type": "code",
   "execution_count": null,
   "id": "b0121f39-511e-48ce-87bb-dbce129c9a95",
   "metadata": {},
   "outputs": [],
   "source": [
    "# get RMSE by year\n",
    "player_data2.groupby([\"yearID\"])[err_cols].agg(rmse).round(2).tail()"
   ]
  },
  {
   "cell_type": "markdown",
   "id": "84397085-7637-46d5-bfbf-79accb6c5cce",
   "metadata": {
    "tags": []
   },
   "source": [
    "## Aggregate Forecasts to Team Level"
   ]
  },
  {
   "cell_type": "code",
   "execution_count": 23,
   "id": "54b29641-558d-4dc0-9486-caa74abbe75f",
   "metadata": {},
   "outputs": [],
   "source": [
    "# append forecasts to data class\n",
    "dfb.forecasts = aggdf_batting\n",
    "dfp.forecasts = aggdf_pitching"
   ]
  },
  {
   "cell_type": "code",
   "execution_count": 87,
   "id": "9ab88c73-072e-4d76-bdf9-8b40b882c738",
   "metadata": {},
   "outputs": [],
   "source": [
    "# agg player forecasts by team\n",
    "tm_fcast = fcbb.AggByTeam(dfb=dfb,dfp=dfp).agg(corpus=\"op-day\",forecast=\"comb\",gross_up=False)"
   ]
  },
  {
   "cell_type": "code",
   "execution_count": 90,
   "id": "f01cdca0-d0db-4c5a-b86b-42dcb787f755",
   "metadata": {},
   "outputs": [
    {
     "data": {
      "text/plain": [
       "107.64856527555392"
      ]
     },
     "execution_count": 90,
     "metadata": {},
     "output_type": "execute_result"
    },
    {
     "data": {
      "text/plain": [
       "129.8127015243921"
      ]
     },
     "execution_count": 90,
     "metadata": {},
     "output_type": "execute_result"
    }
   ],
   "source": [
    "# team-level error\n",
    "test = lhtm.set_index([\"teamID\",\"yearID\"])[[\"R\",\"RA\"]].join(tm_fcast[[\"R\",\"RA\"]],rsuffix=\"proj\")\n",
    "np.mean((test[\"R\"] - test[\"Rproj\"])**2)**.5\n",
    "np.mean((test[\"RA\"] - test[\"RAproj\"])**2)**.5"
   ]
  },
  {
   "cell_type": "markdown",
   "id": "ca372740-7054-4968-84e9-68ead3ef36db",
   "metadata": {
    "tags": []
   },
   "source": [
    "## Instantiate Playoff Likelihood Model"
   ]
  },
  {
   "cell_type": "code",
   "execution_count": 63,
   "id": "af7c59e0-b5dd-45a7-ab44-0efcdcc6edd9",
   "metadata": {},
   "outputs": [],
   "source": [
    "from xgboost import XGBClassifier\n",
    "from sklearn.ensemble import RandomForestClassifier\n",
    "from sklearn.linear_model import LogisticRegression\n",
    "from sklearn.metrics import accuracy_score"
   ]
  },
  {
   "cell_type": "code",
   "execution_count": 64,
   "id": "19119200-b030-4841-b33d-5a016631ba3e",
   "metadata": {},
   "outputs": [],
   "source": [
    "# run team etl class\n",
    "dft = fcbb.CoreTeamETL(df_tm=lhtm,dt_filter=1995).run_etl()\n",
    "\n",
    "# create a point differential column\n",
    "dft.df_primary[\"PDiff\"] = dft.df_primary[\"R\"] - dft.df_primary[\"RA\"]"
   ]
  },
  {
   "cell_type": "code",
   "execution_count": 72,
   "id": "c643bd84-80e3-4c75-a113-5f271b0006a2",
   "metadata": {},
   "outputs": [],
   "source": [
    "# run another team etl which brings in forecast data\n",
    "dft2 = dft.df_primary[dft.cols_team + dft.cols_y].set_index([\"teamID\",\"yearID\"]).join(tm_fcast).reset_index()\n",
    "\n",
    "# create a point differential column\n",
    "dft2[\"PDiff\"] = dft2[\"R\"] - dft2[\"RA\"]"
   ]
  },
  {
   "cell_type": "code",
   "execution_count": 73,
   "id": "a5b987ae-2ba3-41de-87fa-af7790928077",
   "metadata": {},
   "outputs": [],
   "source": [
    "# instantiate team prediction models\n",
    "\n",
    "### models trained on original data and tested with original data\n",
    "tm_logreg = fcbb.TeamForecast(model_name=\"tm_logreg\",\n",
    "                              train_corpus=dft.df_primary,\n",
    "                              test_corpus=dft.df_primary,\n",
    "                              data_class=dft,\n",
    "                              model=LogisticRegression(fit_intercept=True),\n",
    "                              lookback=30)\n",
    "\n",
    "tm_xgb = fcbb.TeamForecast(model_name=\"tm_xgb\",\n",
    "                           train_corpus=dft.df_primary,\n",
    "                           test_corpus=dft.df_primary,\n",
    "                           data_class=dft,\n",
    "                           model=XGBClassifier(n_estimators=1000),\n",
    "                           lookback=30)\n",
    "\n",
    "tm_rfr = fcbb.TeamForecast(model_name=\"tm_rfr\",\n",
    "                           train_corpus=dft.df_primary,\n",
    "                           test_corpus=dft.df_primary,\n",
    "                           data_class=dft,\n",
    "                           model=RandomForestClassifier(n_estimators=1000),\n",
    "                           lookback=30)\n",
    "\n",
    "### models trained on original data and tested with forecast data\n",
    "tm_logreg2 = fcbb.TeamForecast(model_name=\"tm_logreg\",\n",
    "                               train_corpus=dft.df_primary,\n",
    "                               test_corpus=dft2,\n",
    "                               data_class=dft,\n",
    "                               model=LogisticRegression(fit_intercept=True),\n",
    "                               lookback=30)\n",
    "\n",
    "tm_rfr2 = fcbb.TeamForecast(model_name=\"tm_rfr\",\n",
    "                            train_corpus=dft.df_primary,\n",
    "                            test_corpus=dft2,\n",
    "                            data_class=dft,\n",
    "                            model=RandomForestClassifier(n_estimators=1000),\n",
    "                            lookback=30)"
   ]
  },
  {
   "cell_type": "markdown",
   "id": "8038028e-be62-471f-9f7e-a2f5b485cf03",
   "metadata": {
    "jp-MarkdownHeadingCollapsed": true,
    "tags": []
   },
   "source": [
    "## Playoff Forecast Model: Lahman Test Sample"
   ]
  },
  {
   "cell_type": "code",
   "execution_count": null,
   "id": "be3070e9-35d4-44a6-9c45-a7a1927c2270",
   "metadata": {},
   "outputs": [],
   "source": [
    "# get multiple forecasts\n",
    "seasons = [x for x in np.arange(1996,2023) if x != 2020]\n",
    "tm_agg = fcbb.AggForecasts(models=[tm_logreg,tm_rfr],\n",
    "                           seasons=seasons,\n",
    "                           stats=[\"PSWin\"],\n",
    "                           ensemble=True,\n",
    "                           xvars=[\"PDiff\"],\n",
    "                           pred_type=\"class\").agg()\n",
    "\n",
    "# enesemble classifier\n",
    "tm_agg.df_agg[\"PSWincomb\"] = tm_agg.df_agg[\"PSWincomb\"].apply(lambda x: 0 if x <= .5 else x)\n",
    "\n",
    "# merge data\n",
    "test = dft.df_primary.set_index([\"teamID\",\"yearID\"])[dft.cols_y].join(tm_agg.df_agg).dropna()\n",
    "test.tail()\n",
    "\n",
    "# get accuracies\n",
    "print(\"Accuracy: All Data\")\n",
    "\"Logistic: {}\".format(round(accuracy_score(test[\"PSWin\"],test[\"PSWintm_logreg\"]),4))\n",
    "\"RFC: {}\".format(round(accuracy_score(test[\"PSWin\"],test[\"PSWintm_rfr\"]),4))\n",
    "\"Ensemble: {}\".format(round(accuracy_score(test[\"PSWin\"],test[\"PSWincomb\"]),4))\n",
    "\n",
    "# get accuracies\n",
    "print(\"\")\n",
    "print(\"Accuracy: Positives\")\n",
    "test2 = test.query(\"PSWin==1\")\n",
    "\"Logistic: {}\".format(round(accuracy_score(test2[\"PSWin\"],test2[\"PSWintm_logreg\"]),4))\n",
    "\"RFC: {}\".format(round(accuracy_score(test2[\"PSWin\"],test2[\"PSWintm_rfr\"]),4))\n",
    "\"Ensemble: {}\".format(round(accuracy_score(test2[\"PSWin\"],test2[\"PSWincomb\"]),4))\n",
    "\n",
    "# get accuracies\n",
    "print(\"\")\n",
    "print(\"Accuracy: Negatives\")\n",
    "test3 = test.query(\"PSWin==0\")\n",
    "\"Logistic: {}\".format(round(accuracy_score(test3[\"PSWin\"],test3[\"PSWintm_logreg\"]),4))\n",
    "\"RFC: {}\".format(round(accuracy_score(test3[\"PSWin\"],test3[\"PSWintm_rfr\"]),4))\n",
    "\"Ensemble: {}\".format(round(accuracy_score(test3[\"PSWin\"],test3[\"PSWincomb\"]),4))"
   ]
  },
  {
   "cell_type": "markdown",
   "id": "bd9e3b85-445c-4003-8169-5eb864cfa105",
   "metadata": {
    "jp-MarkdownHeadingCollapsed": true,
    "tags": []
   },
   "source": [
    "## Playoff Forecast Model: Projections Test Sample"
   ]
  },
  {
   "cell_type": "code",
   "execution_count": null,
   "id": "4fa667f1-8880-4263-9fb8-77031b4efee4",
   "metadata": {},
   "outputs": [],
   "source": [
    "# get multiple forecasts\n",
    "seasons = [x for x in np.arange(1996,2023) if x != 2020]\n",
    "tm_agg = fcbb.AggForecasts(models=[tm_logreg2,tm_rfr2],\n",
    "                           seasons=seasons,\n",
    "                           stats=[\"PSWin\"],\n",
    "                           ensemble=True,\n",
    "                           xvars=[\"PDiff\"],\n",
    "                           pred_type=\"class\").agg()\n",
    "\n",
    "# enesemble classifier\n",
    "tm_agg.df_agg[\"PSWincomb\"] = tm_agg.df_agg[\"PSWincomb\"].apply(lambda x: 0 if x <= .5 else x)\n",
    "\n",
    "# merge data\n",
    "test = dft.df_primary.set_index([\"teamID\",\"yearID\"])[dft.cols_y].join(tm_agg.df_agg).dropna()\n",
    "test.tail()\n",
    "\n",
    "# get accuracies\n",
    "print(\"Accuracy: All Data\")\n",
    "\"Logistic: {}\".format(round(accuracy_score(test[\"PSWin\"],test[\"PSWintm_logreg\"]),4))\n",
    "\"RFC: {}\".format(round(accuracy_score(test[\"PSWin\"],test[\"PSWintm_rfr\"]),4))\n",
    "\"Ensemble: {}\".format(round(accuracy_score(test[\"PSWin\"],test[\"PSWincomb\"]),4))\n",
    "\n",
    "# get accuracies\n",
    "print(\"\")\n",
    "print(\"Accuracy: Positives\")\n",
    "test2 = test.query(\"PSWin==1\")\n",
    "\"Logistic: {}\".format(round(accuracy_score(test2[\"PSWin\"],test2[\"PSWintm_logreg\"]),4))\n",
    "\"RFC: {}\".format(round(accuracy_score(test2[\"PSWin\"],test2[\"PSWintm_rfr\"]),4))\n",
    "\"Ensemble: {}\".format(round(accuracy_score(test2[\"PSWin\"],test2[\"PSWincomb\"]),4))\n",
    "\n",
    "# get accuracies\n",
    "print(\"\")\n",
    "print(\"Accuracy: Negatives\")\n",
    "test3 = test.query(\"PSWin==0\")\n",
    "\"Logistic: {}\".format(round(accuracy_score(test3[\"PSWin\"],test3[\"PSWintm_logreg\"]),4))\n",
    "\"RFC: {}\".format(round(accuracy_score(test3[\"PSWin\"],test3[\"PSWintm_rfr\"]),4))\n",
    "\"Ensemble: {}\".format(round(accuracy_score(test3[\"PSWin\"],test3[\"PSWincomb\"]),4))"
   ]
  },
  {
   "cell_type": "markdown",
   "id": "852f3548-376b-46a3-b23a-15ccc6b4fb08",
   "metadata": {},
   "source": [
    "## Spot Check: Projected Top Playoff Contenders in Selected Years"
   ]
  },
  {
   "cell_type": "code",
   "execution_count": 74,
   "id": "70c2befc-d98e-437c-94b8-5217bbd6a541",
   "metadata": {},
   "outputs": [
    {
     "data": {
      "application/vnd.jupyter.widget-view+json": {
       "model_id": "061e3b7c21534136b56c5bb4a00d9995",
       "version_major": 2,
       "version_minor": 0
      },
      "text/plain": [
       "  0%|          | 0/2 [00:00<?, ?it/s]"
      ]
     },
     "metadata": {},
     "output_type": "display_data"
    }
   ],
   "source": [
    "# get multiple forecasts\n",
    "seasons = [x for x in np.arange(1996,2023) if x != 2020]\n",
    "tm_agg = fcbb.AggForecasts(models=[tm_logreg2,tm_rfr2],\n",
    "                           seasons=seasons,\n",
    "                           stats=[\"PSWin\"],\n",
    "                           ensemble=True,\n",
    "                           xvars=[\"PDiff\"],\n",
    "                           pred_type=\"prob\").agg()\n",
    "\n",
    "# enesemble classifier\n",
    "tm_agg.df_agg[\"PSWincomb\"] = tm_agg.df_agg[\"PSWincomb\"].apply(lambda x: 0 if x <= .5 else x)"
   ]
  },
  {
   "cell_type": "markdown",
   "id": "f3f73e5d-6acb-41a5-9877-91066c33e564",
   "metadata": {},
   "source": [
    "### 2022\n",
    "\n",
    "Houston Astros are the 2022 winners."
   ]
  },
  {
   "cell_type": "code",
   "execution_count": 75,
   "id": "45d7bfec-6d1d-4e02-82d7-3b2ebe926a18",
   "metadata": {},
   "outputs": [
    {
     "data": {
      "text/html": [
       "<div>\n",
       "<style scoped>\n",
       "    .dataframe tbody tr th:only-of-type {\n",
       "        vertical-align: middle;\n",
       "    }\n",
       "\n",
       "    .dataframe tbody tr th {\n",
       "        vertical-align: top;\n",
       "    }\n",
       "\n",
       "    .dataframe thead th {\n",
       "        text-align: right;\n",
       "    }\n",
       "</style>\n",
       "<table border=\"1\" class=\"dataframe\">\n",
       "  <thead>\n",
       "    <tr style=\"text-align: right;\">\n",
       "      <th></th>\n",
       "      <th>teamID</th>\n",
       "      <th>yearID</th>\n",
       "      <th>PSWintm_logreg</th>\n",
       "      <th>PSWintm_rfr</th>\n",
       "      <th>PSWincomb</th>\n",
       "    </tr>\n",
       "  </thead>\n",
       "  <tbody>\n",
       "    <tr>\n",
       "      <th>770</th>\n",
       "      <td>SFN</td>\n",
       "      <td>2022</td>\n",
       "      <td>0.7562</td>\n",
       "      <td>0.3640</td>\n",
       "      <td>0.5601</td>\n",
       "    </tr>\n",
       "    <tr>\n",
       "      <th>747</th>\n",
       "      <td>ATL</td>\n",
       "      <td>2022</td>\n",
       "      <td>0.5223</td>\n",
       "      <td>0.7427</td>\n",
       "      <td>0.6325</td>\n",
       "    </tr>\n",
       "    <tr>\n",
       "      <th>765</th>\n",
       "      <td>OAK</td>\n",
       "      <td>2022</td>\n",
       "      <td>0.3430</td>\n",
       "      <td>0.0012</td>\n",
       "      <td>0.0000</td>\n",
       "    </tr>\n",
       "    <tr>\n",
       "      <th>750</th>\n",
       "      <td>CHA</td>\n",
       "      <td>2022</td>\n",
       "      <td>0.2205</td>\n",
       "      <td>0.3197</td>\n",
       "      <td>0.0000</td>\n",
       "    </tr>\n",
       "    <tr>\n",
       "      <th>769</th>\n",
       "      <td>SEA</td>\n",
       "      <td>2022</td>\n",
       "      <td>0.1662</td>\n",
       "      <td>0.3146</td>\n",
       "      <td>0.0000</td>\n",
       "    </tr>\n",
       "    <tr>\n",
       "      <th>749</th>\n",
       "      <td>BOS</td>\n",
       "      <td>2022</td>\n",
       "      <td>0.1515</td>\n",
       "      <td>0.1611</td>\n",
       "      <td>0.0000</td>\n",
       "    </tr>\n",
       "    <tr>\n",
       "      <th>763</th>\n",
       "      <td>NYA</td>\n",
       "      <td>2022</td>\n",
       "      <td>0.1452</td>\n",
       "      <td>0.4585</td>\n",
       "      <td>0.0000</td>\n",
       "    </tr>\n",
       "    <tr>\n",
       "      <th>756</th>\n",
       "      <td>HOU</td>\n",
       "      <td>2022</td>\n",
       "      <td>0.1401</td>\n",
       "      <td>0.3338</td>\n",
       "      <td>0.0000</td>\n",
       "    </tr>\n",
       "    <tr>\n",
       "      <th>766</th>\n",
       "      <td>PHI</td>\n",
       "      <td>2022</td>\n",
       "      <td>0.1194</td>\n",
       "      <td>0.3261</td>\n",
       "      <td>0.0000</td>\n",
       "    </tr>\n",
       "    <tr>\n",
       "      <th>761</th>\n",
       "      <td>MIL</td>\n",
       "      <td>2022</td>\n",
       "      <td>0.1067</td>\n",
       "      <td>0.0011</td>\n",
       "      <td>0.0000</td>\n",
       "    </tr>\n",
       "  </tbody>\n",
       "</table>\n",
       "</div>"
      ],
      "text/plain": [
       "    teamID  yearID  PSWintm_logreg  PSWintm_rfr  PSWincomb\n",
       "770    SFN    2022          0.7562       0.3640     0.5601\n",
       "747    ATL    2022          0.5223       0.7427     0.6325\n",
       "765    OAK    2022          0.3430       0.0012     0.0000\n",
       "750    CHA    2022          0.2205       0.3197     0.0000\n",
       "769    SEA    2022          0.1662       0.3146     0.0000\n",
       "749    BOS    2022          0.1515       0.1611     0.0000\n",
       "763    NYA    2022          0.1452       0.4585     0.0000\n",
       "756    HOU    2022          0.1401       0.3338     0.0000\n",
       "766    PHI    2022          0.1194       0.3261     0.0000\n",
       "761    MIL    2022          0.1067       0.0011     0.0000"
      ]
     },
     "execution_count": 75,
     "metadata": {},
     "output_type": "execute_result"
    }
   ],
   "source": [
    "tm_agg.df_agg.reset_index().query(\"yearID == 2022\").sort_values(\"PSWintm_logreg\",ascending=False).head(10)"
   ]
  },
  {
   "cell_type": "markdown",
   "id": "0ccdc9e3-ba9b-40a5-a313-818167f6cafc",
   "metadata": {},
   "source": [
    "### 2021\n",
    "\n",
    "Atlanta Braves are the 2021 winners"
   ]
  },
  {
   "cell_type": "code",
   "execution_count": 76,
   "id": "45f9b257-879d-4a6d-8e37-65b38018c7cd",
   "metadata": {},
   "outputs": [
    {
     "data": {
      "text/html": [
       "<div>\n",
       "<style scoped>\n",
       "    .dataframe tbody tr th:only-of-type {\n",
       "        vertical-align: middle;\n",
       "    }\n",
       "\n",
       "    .dataframe tbody tr th {\n",
       "        vertical-align: top;\n",
       "    }\n",
       "\n",
       "    .dataframe thead th {\n",
       "        text-align: right;\n",
       "    }\n",
       "</style>\n",
       "<table border=\"1\" class=\"dataframe\">\n",
       "  <thead>\n",
       "    <tr style=\"text-align: right;\">\n",
       "      <th></th>\n",
       "      <th>teamID</th>\n",
       "      <th>yearID</th>\n",
       "      <th>PSWintm_logreg</th>\n",
       "      <th>PSWintm_rfr</th>\n",
       "      <th>PSWincomb</th>\n",
       "    </tr>\n",
       "  </thead>\n",
       "  <tbody>\n",
       "    <tr>\n",
       "      <th>723</th>\n",
       "      <td>CLE</td>\n",
       "      <td>2021</td>\n",
       "      <td>0.9838</td>\n",
       "      <td>1.0000</td>\n",
       "      <td>0.9919</td>\n",
       "    </tr>\n",
       "    <tr>\n",
       "      <th>733</th>\n",
       "      <td>NYA</td>\n",
       "      <td>2021</td>\n",
       "      <td>0.3012</td>\n",
       "      <td>0.5433</td>\n",
       "      <td>0.0000</td>\n",
       "    </tr>\n",
       "    <tr>\n",
       "      <th>720</th>\n",
       "      <td>CHA</td>\n",
       "      <td>2021</td>\n",
       "      <td>0.0405</td>\n",
       "      <td>0.0000</td>\n",
       "      <td>0.0000</td>\n",
       "    </tr>\n",
       "    <tr>\n",
       "      <th>730</th>\n",
       "      <td>MIA</td>\n",
       "      <td>2021</td>\n",
       "      <td>0.0389</td>\n",
       "      <td>0.0000</td>\n",
       "      <td>0.0000</td>\n",
       "    </tr>\n",
       "    <tr>\n",
       "      <th>745</th>\n",
       "      <td>WAS</td>\n",
       "      <td>2021</td>\n",
       "      <td>0.0385</td>\n",
       "      <td>0.0000</td>\n",
       "      <td>0.0000</td>\n",
       "    </tr>\n",
       "    <tr>\n",
       "      <th>735</th>\n",
       "      <td>OAK</td>\n",
       "      <td>2021</td>\n",
       "      <td>0.0383</td>\n",
       "      <td>0.0000</td>\n",
       "      <td>0.0000</td>\n",
       "    </tr>\n",
       "    <tr>\n",
       "      <th>722</th>\n",
       "      <td>CIN</td>\n",
       "      <td>2021</td>\n",
       "      <td>0.0252</td>\n",
       "      <td>0.0000</td>\n",
       "      <td>0.0000</td>\n",
       "    </tr>\n",
       "    <tr>\n",
       "      <th>721</th>\n",
       "      <td>CHN</td>\n",
       "      <td>2021</td>\n",
       "      <td>0.0246</td>\n",
       "      <td>0.0000</td>\n",
       "      <td>0.0000</td>\n",
       "    </tr>\n",
       "    <tr>\n",
       "      <th>718</th>\n",
       "      <td>BAL</td>\n",
       "      <td>2021</td>\n",
       "      <td>0.0226</td>\n",
       "      <td>0.0000</td>\n",
       "      <td>0.0000</td>\n",
       "    </tr>\n",
       "    <tr>\n",
       "      <th>716</th>\n",
       "      <td>ARI</td>\n",
       "      <td>2021</td>\n",
       "      <td>0.0172</td>\n",
       "      <td>0.0000</td>\n",
       "      <td>0.0000</td>\n",
       "    </tr>\n",
       "  </tbody>\n",
       "</table>\n",
       "</div>"
      ],
      "text/plain": [
       "    teamID  yearID  PSWintm_logreg  PSWintm_rfr  PSWincomb\n",
       "723    CLE    2021          0.9838       1.0000     0.9919\n",
       "733    NYA    2021          0.3012       0.5433     0.0000\n",
       "720    CHA    2021          0.0405       0.0000     0.0000\n",
       "730    MIA    2021          0.0389       0.0000     0.0000\n",
       "745    WAS    2021          0.0385       0.0000     0.0000\n",
       "735    OAK    2021          0.0383       0.0000     0.0000\n",
       "722    CIN    2021          0.0252       0.0000     0.0000\n",
       "721    CHN    2021          0.0246       0.0000     0.0000\n",
       "718    BAL    2021          0.0226       0.0000     0.0000\n",
       "716    ARI    2021          0.0172       0.0000     0.0000"
      ]
     },
     "execution_count": 76,
     "metadata": {},
     "output_type": "execute_result"
    }
   ],
   "source": [
    "tm_agg.df_agg.reset_index().query(\"yearID == 2021\").sort_values(\"PSWintm_logreg\",ascending=False).head(10)"
   ]
  },
  {
   "cell_type": "markdown",
   "id": "b6ebf00e-92a9-414f-8fe4-f07dcacb6231",
   "metadata": {},
   "source": [
    "### 2019\n",
    "\n",
    "Washington Nationals are the 2019 winners."
   ]
  },
  {
   "cell_type": "code",
   "execution_count": 77,
   "id": "03f9641d-96c9-48ca-9b04-fbe36ed60c90",
   "metadata": {},
   "outputs": [
    {
     "data": {
      "text/html": [
       "<div>\n",
       "<style scoped>\n",
       "    .dataframe tbody tr th:only-of-type {\n",
       "        vertical-align: middle;\n",
       "    }\n",
       "\n",
       "    .dataframe tbody tr th {\n",
       "        vertical-align: top;\n",
       "    }\n",
       "\n",
       "    .dataframe thead th {\n",
       "        text-align: right;\n",
       "    }\n",
       "</style>\n",
       "<table border=\"1\" class=\"dataframe\">\n",
       "  <thead>\n",
       "    <tr style=\"text-align: right;\">\n",
       "      <th></th>\n",
       "      <th>teamID</th>\n",
       "      <th>yearID</th>\n",
       "      <th>PSWintm_logreg</th>\n",
       "      <th>PSWintm_rfr</th>\n",
       "      <th>PSWincomb</th>\n",
       "    </tr>\n",
       "  </thead>\n",
       "  <tbody>\n",
       "    <tr>\n",
       "      <th>696</th>\n",
       "      <td>HOU</td>\n",
       "      <td>2019</td>\n",
       "      <td>0.9998</td>\n",
       "      <td>1.0000</td>\n",
       "      <td>0.99990</td>\n",
       "    </tr>\n",
       "    <tr>\n",
       "      <th>689</th>\n",
       "      <td>BOS</td>\n",
       "      <td>2019</td>\n",
       "      <td>0.9970</td>\n",
       "      <td>1.0000</td>\n",
       "      <td>0.99850</td>\n",
       "    </tr>\n",
       "    <tr>\n",
       "      <th>703</th>\n",
       "      <td>NYA</td>\n",
       "      <td>2019</td>\n",
       "      <td>0.9847</td>\n",
       "      <td>0.5840</td>\n",
       "      <td>0.78435</td>\n",
       "    </tr>\n",
       "    <tr>\n",
       "      <th>711</th>\n",
       "      <td>SLN</td>\n",
       "      <td>2019</td>\n",
       "      <td>0.9402</td>\n",
       "      <td>0.9200</td>\n",
       "      <td>0.93010</td>\n",
       "    </tr>\n",
       "    <tr>\n",
       "      <th>693</th>\n",
       "      <td>CLE</td>\n",
       "      <td>2019</td>\n",
       "      <td>0.7795</td>\n",
       "      <td>1.0000</td>\n",
       "      <td>0.88975</td>\n",
       "    </tr>\n",
       "    <tr>\n",
       "      <th>700</th>\n",
       "      <td>MIA</td>\n",
       "      <td>2019</td>\n",
       "      <td>0.7744</td>\n",
       "      <td>0.9860</td>\n",
       "      <td>0.88020</td>\n",
       "    </tr>\n",
       "    <tr>\n",
       "      <th>708</th>\n",
       "      <td>SDN</td>\n",
       "      <td>2019</td>\n",
       "      <td>0.7441</td>\n",
       "      <td>0.8690</td>\n",
       "      <td>0.80655</td>\n",
       "    </tr>\n",
       "    <tr>\n",
       "      <th>705</th>\n",
       "      <td>OAK</td>\n",
       "      <td>2019</td>\n",
       "      <td>0.6241</td>\n",
       "      <td>0.9705</td>\n",
       "      <td>0.79730</td>\n",
       "    </tr>\n",
       "    <tr>\n",
       "      <th>692</th>\n",
       "      <td>CIN</td>\n",
       "      <td>2019</td>\n",
       "      <td>0.4905</td>\n",
       "      <td>0.7495</td>\n",
       "      <td>0.62000</td>\n",
       "    </tr>\n",
       "    <tr>\n",
       "      <th>706</th>\n",
       "      <td>PHI</td>\n",
       "      <td>2019</td>\n",
       "      <td>0.4492</td>\n",
       "      <td>0.5233</td>\n",
       "      <td>0.00000</td>\n",
       "    </tr>\n",
       "  </tbody>\n",
       "</table>\n",
       "</div>"
      ],
      "text/plain": [
       "    teamID  yearID  PSWintm_logreg  PSWintm_rfr  PSWincomb\n",
       "696    HOU    2019          0.9998       1.0000    0.99990\n",
       "689    BOS    2019          0.9970       1.0000    0.99850\n",
       "703    NYA    2019          0.9847       0.5840    0.78435\n",
       "711    SLN    2019          0.9402       0.9200    0.93010\n",
       "693    CLE    2019          0.7795       1.0000    0.88975\n",
       "700    MIA    2019          0.7744       0.9860    0.88020\n",
       "708    SDN    2019          0.7441       0.8690    0.80655\n",
       "705    OAK    2019          0.6241       0.9705    0.79730\n",
       "692    CIN    2019          0.4905       0.7495    0.62000\n",
       "706    PHI    2019          0.4492       0.5233    0.00000"
      ]
     },
     "execution_count": 77,
     "metadata": {},
     "output_type": "execute_result"
    }
   ],
   "source": [
    "tm_agg.df_agg.reset_index().query(\"yearID == 2019\").sort_values(\"PSWintm_logreg\",ascending=False).head(10)"
   ]
  },
  {
   "cell_type": "markdown",
   "id": "960a37bf-452e-4b60-85c6-20273e01c3d5",
   "metadata": {},
   "source": [
    "### 2012\n",
    "\n",
    "San Francisco Giants are the 2012 winners."
   ]
  },
  {
   "cell_type": "code",
   "execution_count": 78,
   "id": "3275417f-ae43-4ca5-85f2-02df59223718",
   "metadata": {},
   "outputs": [
    {
     "data": {
      "text/html": [
       "<div>\n",
       "<style scoped>\n",
       "    .dataframe tbody tr th:only-of-type {\n",
       "        vertical-align: middle;\n",
       "    }\n",
       "\n",
       "    .dataframe tbody tr th {\n",
       "        vertical-align: top;\n",
       "    }\n",
       "\n",
       "    .dataframe thead th {\n",
       "        text-align: right;\n",
       "    }\n",
       "</style>\n",
       "<table border=\"1\" class=\"dataframe\">\n",
       "  <thead>\n",
       "    <tr style=\"text-align: right;\">\n",
       "      <th></th>\n",
       "      <th>teamID</th>\n",
       "      <th>yearID</th>\n",
       "      <th>PSWintm_logreg</th>\n",
       "      <th>PSWintm_rfr</th>\n",
       "      <th>PSWincomb</th>\n",
       "    </tr>\n",
       "  </thead>\n",
       "  <tbody>\n",
       "    <tr>\n",
       "      <th>493</th>\n",
       "      <td>NYA</td>\n",
       "      <td>2012</td>\n",
       "      <td>0.9996</td>\n",
       "      <td>1.0000</td>\n",
       "      <td>0.99980</td>\n",
       "    </tr>\n",
       "    <tr>\n",
       "      <th>479</th>\n",
       "      <td>BOS</td>\n",
       "      <td>2012</td>\n",
       "      <td>0.9965</td>\n",
       "      <td>1.0000</td>\n",
       "      <td>0.99825</td>\n",
       "    </tr>\n",
       "    <tr>\n",
       "      <th>496</th>\n",
       "      <td>PHI</td>\n",
       "      <td>2012</td>\n",
       "      <td>0.9959</td>\n",
       "      <td>1.0000</td>\n",
       "      <td>0.99795</td>\n",
       "    </tr>\n",
       "    <tr>\n",
       "      <th>495</th>\n",
       "      <td>OAK</td>\n",
       "      <td>2012</td>\n",
       "      <td>0.9894</td>\n",
       "      <td>1.0000</td>\n",
       "      <td>0.99470</td>\n",
       "    </tr>\n",
       "    <tr>\n",
       "      <th>488</th>\n",
       "      <td>LAA</td>\n",
       "      <td>2012</td>\n",
       "      <td>0.9865</td>\n",
       "      <td>1.0000</td>\n",
       "      <td>0.99325</td>\n",
       "    </tr>\n",
       "    <tr>\n",
       "      <th>503</th>\n",
       "      <td>TEX</td>\n",
       "      <td>2012</td>\n",
       "      <td>0.9822</td>\n",
       "      <td>1.0000</td>\n",
       "      <td>0.99110</td>\n",
       "    </tr>\n",
       "    <tr>\n",
       "      <th>502</th>\n",
       "      <td>TBA</td>\n",
       "      <td>2012</td>\n",
       "      <td>0.9768</td>\n",
       "      <td>0.3630</td>\n",
       "      <td>0.66990</td>\n",
       "    </tr>\n",
       "    <tr>\n",
       "      <th>482</th>\n",
       "      <td>CIN</td>\n",
       "      <td>2012</td>\n",
       "      <td>0.9376</td>\n",
       "      <td>0.9900</td>\n",
       "      <td>0.96380</td>\n",
       "    </tr>\n",
       "    <tr>\n",
       "      <th>485</th>\n",
       "      <td>DET</td>\n",
       "      <td>2012</td>\n",
       "      <td>0.8522</td>\n",
       "      <td>0.5833</td>\n",
       "      <td>0.71775</td>\n",
       "    </tr>\n",
       "    <tr>\n",
       "      <th>478</th>\n",
       "      <td>BAL</td>\n",
       "      <td>2012</td>\n",
       "      <td>0.8348</td>\n",
       "      <td>0.7587</td>\n",
       "      <td>0.79675</td>\n",
       "    </tr>\n",
       "  </tbody>\n",
       "</table>\n",
       "</div>"
      ],
      "text/plain": [
       "    teamID  yearID  PSWintm_logreg  PSWintm_rfr  PSWincomb\n",
       "493    NYA    2012          0.9996       1.0000    0.99980\n",
       "479    BOS    2012          0.9965       1.0000    0.99825\n",
       "496    PHI    2012          0.9959       1.0000    0.99795\n",
       "495    OAK    2012          0.9894       1.0000    0.99470\n",
       "488    LAA    2012          0.9865       1.0000    0.99325\n",
       "503    TEX    2012          0.9822       1.0000    0.99110\n",
       "502    TBA    2012          0.9768       0.3630    0.66990\n",
       "482    CIN    2012          0.9376       0.9900    0.96380\n",
       "485    DET    2012          0.8522       0.5833    0.71775\n",
       "478    BAL    2012          0.8348       0.7587    0.79675"
      ]
     },
     "execution_count": 78,
     "metadata": {},
     "output_type": "execute_result"
    }
   ],
   "source": [
    "tm_agg.df_agg.reset_index().query(\"yearID == 2012\").sort_values(\"PSWintm_logreg\",ascending=False).head(10)"
   ]
  },
  {
   "cell_type": "code",
   "execution_count": null,
   "id": "01f9f2a8-c6b7-49de-97dd-1fa1bf8a5482",
   "metadata": {},
   "outputs": [],
   "source": []
  }
 ],
 "metadata": {
  "kernelspec": {
   "display_name": "Python 3 (ipykernel)",
   "language": "python",
   "name": "python3"
  },
  "language_info": {
   "codemirror_mode": {
    "name": "ipython",
    "version": 3
   },
   "file_extension": ".py",
   "mimetype": "text/x-python",
   "name": "python",
   "nbconvert_exporter": "python",
   "pygments_lexer": "ipython3",
   "version": "3.10.9"
  }
 },
 "nbformat": 4,
 "nbformat_minor": 5
}
